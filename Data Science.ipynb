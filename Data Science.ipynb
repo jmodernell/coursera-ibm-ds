{
    "cells": [
        {
            "cell_type": "markdown",
            "metadata": {
                "collapsed": true
            },
            "source": "# Title\n\n### Description"
        },
        {
            "cell_type": "markdown",
            "metadata": {},
            "source": "code snippet for data upload:"
        },
        {
            "cell_type": "code",
            "execution_count": 1,
            "metadata": {},
            "outputs": [
                {
                    "data": {
                        "text/html": "<div>\n<style scoped>\n    .dataframe tbody tr th:only-of-type {\n        vertical-align: middle;\n    }\n\n    .dataframe tbody tr th {\n        vertical-align: top;\n    }\n\n    .dataframe thead th {\n        text-align: right;\n    }\n</style>\n<table border=\"1\" class=\"dataframe\">\n  <thead>\n    <tr style=\"text-align: right;\">\n      <th></th>\n      <th>Store</th>\n      <th>Destination Latitude</th>\n      <th>Destination Longitude</th>\n      <th>Origin Latitude</th>\n      <th>Origin Longitude</th>\n    </tr>\n  </thead>\n  <tbody>\n    <tr>\n      <th>0</th>\n      <td>Yucaipa</td>\n      <td>34.0336</td>\n      <td>-117.0431</td>\n      <td>34.0544</td>\n      <td>-118.2439</td>\n    </tr>\n    <tr>\n      <th>1</th>\n      <td>Thousand Oaks</td>\n      <td>34.1706</td>\n      <td>-118.8376</td>\n      <td>34.0544</td>\n      <td>-118.2439</td>\n    </tr>\n    <tr>\n      <th>2</th>\n      <td>Temecula</td>\n      <td>33.4946</td>\n      <td>-117.1474</td>\n      <td>34.0544</td>\n      <td>-118.2439</td>\n    </tr>\n    <tr>\n      <th>3</th>\n      <td>Santa Barbara</td>\n      <td>34.4098</td>\n      <td>-119.6970</td>\n      <td>34.0544</td>\n      <td>-118.2439</td>\n    </tr>\n    <tr>\n      <th>4</th>\n      <td>Santa Ana</td>\n      <td>33.7495</td>\n      <td>-117.8732</td>\n      <td>34.0544</td>\n      <td>-118.2439</td>\n    </tr>\n    <tr>\n      <th>5</th>\n      <td>San Gabriel</td>\n      <td>34.0991</td>\n      <td>-118.1086</td>\n      <td>34.0544</td>\n      <td>-118.2439</td>\n    </tr>\n    <tr>\n      <th>6</th>\n      <td>San Clemente</td>\n      <td>33.4270</td>\n      <td>-117.6124</td>\n      <td>34.0544</td>\n      <td>-118.2439</td>\n    </tr>\n    <tr>\n      <th>7</th>\n      <td>San Bernardino</td>\n      <td>34.1083</td>\n      <td>-117.2898</td>\n      <td>34.0544</td>\n      <td>-118.2439</td>\n    </tr>\n    <tr>\n      <th>8</th>\n      <td>Redondo Beach</td>\n      <td>33.8456</td>\n      <td>-118.3887</td>\n      <td>34.0544</td>\n      <td>-118.2439</td>\n    </tr>\n    <tr>\n      <th>9</th>\n      <td>Redlands</td>\n      <td>34.0557</td>\n      <td>-117.1889</td>\n      <td>34.0544</td>\n      <td>-118.2439</td>\n    </tr>\n  </tbody>\n</table>\n</div>",
                        "text/plain": "            Store  Destination Latitude  Destination Longitude  \\\n0         Yucaipa               34.0336              -117.0431   \n1   Thousand Oaks               34.1706              -118.8376   \n2        Temecula               33.4946              -117.1474   \n3   Santa Barbara               34.4098              -119.6970   \n4       Santa Ana               33.7495              -117.8732   \n5     San Gabriel               34.0991              -118.1086   \n6    San Clemente               33.4270              -117.6124   \n7  San Bernardino               34.1083              -117.2898   \n8   Redondo Beach               33.8456              -118.3887   \n9        Redlands               34.0557              -117.1889   \n\n   Origin Latitude  Origin Longitude  \n0          34.0544         -118.2439  \n1          34.0544         -118.2439  \n2          34.0544         -118.2439  \n3          34.0544         -118.2439  \n4          34.0544         -118.2439  \n5          34.0544         -118.2439  \n6          34.0544         -118.2439  \n7          34.0544         -118.2439  \n8          34.0544         -118.2439  \n9          34.0544         -118.2439  "
                    },
                    "execution_count": 1,
                    "metadata": {},
                    "output_type": "execute_result"
                }
            ],
            "source": "# The code was removed by Watson Studio for sharing."
        },
        {
            "cell_type": "code",
            "execution_count": null,
            "metadata": {},
            "outputs": [],
            "source": ""
        },
        {
            "cell_type": "code",
            "execution_count": null,
            "metadata": {},
            "outputs": [],
            "source": ""
        }
    ],
    "metadata": {
        "kernelspec": {
            "display_name": "Python 3.10",
            "language": "python",
            "name": "python3"
        },
        "language_info": {
            "codemirror_mode": {
                "name": "ipython",
                "version": 3
            },
            "file_extension": ".py",
            "mimetype": "text/x-python",
            "name": "python",
            "nbconvert_exporter": "python",
            "pygments_lexer": "ipython3",
            "version": "3.10.13"
        }
    },
    "nbformat": 4,
    "nbformat_minor": 1
}